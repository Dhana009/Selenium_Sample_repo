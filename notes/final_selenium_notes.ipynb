{
 "cells": [
  {
   "cell_type": "code",
   "execution_count": null,
   "metadata": {},
   "outputs": [],
   "source": []
  },
  {
   "cell_type": "markdown",
   "metadata": {},
   "source": [
    "# Selenium WebDriver setup and installation"
   ]
  },
  {
   "cell_type": "markdown",
   "metadata": {},
   "source": [
    "- Locators in Selenium:\n",
    "ID, \n",
    "Name,\n",
    "Class Name,\n",
    "Tag Name,\n",
    "CSS Selector,\n",
    "XPath"
   ]
  },
  {
   "cell_type": "markdown",
   "metadata": {},
   "source": [
    "Working with different browsers:\n",
    "ChromeDriver,\n",
    "GeckoDriver (Firefox),\n",
    "EdgeDriver,\n",
    "SafariDriver"
   ]
  },
  {
   "cell_type": "markdown",
   "metadata": {},
   "source": [
    "- Web Element Interactions\n",
    "\n",
    "- Clicking buttons and links\n",
    "\n",
    "- Typing text into input fields\n",
    "\n",
    "- Selecting options from dropdowns (static and dynamic)\n",
    "\n",
    "- Handling checkboxes and radio buttons\n",
    "\n",
    "- Getting text and attributes of elements\n",
    "\n",
    "- Drag and drop functionality\n",
    "\n",
    "- Mouse and keyboard actions using ActionChains"
   ]
  },
  {
   "cell_type": "markdown",
   "metadata": {},
   "source": [
    "## Waits and Synchronization\n",
    "\n",
    "- Implicit Wait\n",
    "\n",
    "- Explicit Wait\n",
    "\n",
    "- Fluent Wait"
   ]
  },
  {
   "cell_type": "markdown",
   "metadata": {},
   "source": [
    "- Handling synchronization issues in dynamic webpages\n",
    "\n",
    "- Advanced Interactions\n",
    "\n",
    "- Handling alerts (simple, confirmation, and prompt alerts)\n",
    "\n",
    "- Handling multiple windows or tabs\n",
    "\n",
    "- Working with iframes (switching between frames)\n",
    "\n",
    "- Uploading and downloading files\n",
    "\n",
    "- Taking screenshots\n",
    "\n",
    "- Scrolling the webpage\n",
    "\n",
    "- Browser and DOM Management\n",
    "\n",
    "- Managing cookies\n",
    "\n",
    "- Working with browser navigation (back, forward, refresh)\n",
    "\n",
    "- Capturing page source and current URL"
   ]
  },
  {
   "cell_type": "markdown",
   "metadata": {},
   "source": [
    "## Using Selenium with pytest\n",
    "\n",
    "- Understanding the Page Object Model (POM) design pattern\n",
    "\n",
    "- Parameterizing tests with data\n",
    "\n",
    "- Reading data from:\n",
    "CSV files,\n",
    "Excel files,\n",
    "Databases,\n",
    "JSON files\n",
    "\n",
    "\n",
    "- Running tests on multiple browsers\n",
    "\n",
    "- Using browser-specific options (headless mode, incognito mode)\n",
    "\n",
    "- Using Docker with Selenium\n",
    "\n",
    "- Generating HTML test reports"
   ]
  },
  {
   "cell_type": "markdown",
   "metadata": {},
   "source": []
  },
  {
   "cell_type": "code",
   "execution_count": null,
   "metadata": {},
   "outputs": [],
   "source": []
  },
  {
   "cell_type": "code",
   "execution_count": null,
   "metadata": {},
   "outputs": [],
   "source": [
    "pip install selenium"
   ]
  },
  {
   "cell_type": "code",
   "execution_count": 1,
   "metadata": {},
   "outputs": [],
   "source": [
    "from selenium import webdriver\n",
    "from selenium.webdriver.chrome.service import Service\n",
    "from selenium.webdriver.common.by import By\n",
    "from selenium.webdriver.support.select import Select"
   ]
  },
  {
   "cell_type": "code",
   "execution_count": null,
   "metadata": {},
   "outputs": [],
   "source": [
    "#one way\n",
    "\n",
    "from selenium import webdriver\n",
    "from selenium.webdriver.chrome.service import Service\n",
    "\n",
    "service_obj=Service(r'D:\\fullstackengineer\\chromedriver-win64\\chromedriver-win64\\chromedriver.exe') #give the driver object here\n",
    "driver = webdriver.Chrome(service=service_obj)"
   ]
  },
  {
   "cell_type": "code",
   "execution_count": 2,
   "metadata": {},
   "outputs": [],
   "source": [
    "#other way\n",
    "from selenium import webdriver\n",
    "from selenium.webdriver.chrome.service import Service   \n",
    "\n",
    "service_obj = Service()\n",
    "driver = webdriver.Chrome(service=service_obj) #automatically downloads the driver"
   ]
  },
  {
   "cell_type": "code",
   "execution_count": null,
   "metadata": {},
   "outputs": [],
   "source": [
    "#opens the browser and navigates to the google.com\n",
    "driver.get(\"https://www.google.com\")\n",
    "\n",
    "#closes the current browser tab\n",
    "driver.close()\n",
    "\n",
    "#maximizes the browser window\n",
    "driver.maximize_window() \n",
    "\n",
    "driver.current_url #returns the current url of the page\n",
    "\n",
    "driver.title #returns the title of the page\n",
    "\n",
    "driver.page_source #returns the html of the page\n",
    "\n",
    "driver.refresh() #refreshes the page\n",
    "\n",
    "driver.back() #navigates to the previous page"
   ]
  },
  {
   "cell_type": "code",
   "execution_count": null,
   "metadata": {},
   "outputs": [],
   "source": [
    "- practing website\n",
    "driver.get('https://rahulshettyacademy.com/angularpractice/')\n",
    "\n",
    "#finding elements by id, name, class, link_text, partial_link_text, tag_name, xpath, css_selector\n",
    "driver.find_element(By.NAME,'name').send_keys('hello') #finds the element by name and sends the keysq\n",
    "\n",
    "\n",
    "#xpaths\n",
    "# //tagname[@attribute='value']  #syntax for xpath\n",
    "# //input[@type='password']\n",
    "driver.find_element(By.XPATH,\"//input[@type='password']\").send_keys('password')\n",
    "\n",
    "# get the text associated\n",
    "driver.find_element(By.CLASS_NAME,\"form-check-label\").text"
   ]
  },
  {
   "cell_type": "code",
   "execution_count": null,
   "metadata": {},
   "outputs": [],
   "source": [
    "#absolute xpath\n",
    "#relative xpath\n",
    "\n",
    "#relative xpath is preferred over absolute xpath\n",
    "\n",
    "#absolute xpath is not recommended because if the html changes, the xpath will also change\n",
    "#\"/html/body/div[1]/form/input[1]\"\n",
    "\n",
    "#relative xpath is more stable and reliable because it is not dependent on the html structure\n",
    "# \"//input[@id='username']\""
   ]
  },
  {
   "cell_type": "code",
   "execution_count": null,
   "metadata": {},
   "outputs": [],
   "source": [
    "#xpath by text\n",
    "#\"//a[contains(text(),'Sign In')]\"\n",
    "\n",
    "# //tagname[text()='text'] #syntax for xpath by text\n",
    "# //tagname[contains(text(),'text')] #contains is a function that checks if the text is present in the tagname\n",
    "# //*[contains(text(),'text')] #* is a wildcard character that can be used to represent any tagname\n",
    "# //tagname[starts-with(@attribute,'value')] #starts-with is a function that checks if the attribute starts with the value\n",
    "# //tagname[@name='value' and @type='value'] #and is a function that checks if the tagname has both the attributes\n",
    "\n",
    "# \"//input[@id='username']/following-sibling::input[@id='password']\"\n",
    "# \"//input[@id='password']/preceding-sibling::input[@id='username']\"\n",
    "\n",
    "#css selectors\n",
    "#tagname[attribute='value']"
   ]
  },
  {
   "cell_type": "code",
   "execution_count": null,
   "metadata": {},
   "outputs": [],
   "source": [
    "### Recap of Key Points\n",
    "- Use **child**, **parent**, **descendant**, and **ancestor** to traverse the DOM hierarchy.\n",
    "- Use **following-sibling** and **preceding-sibling** to handle elements at the same level.\n",
    "- Use **following** and **preceding** for broader navigation within the document.\n",
    "- Use **self**, **descendant-or-self**, and **ancestor-or-self** for specific self-inclusive cases.\n",
    "\n",
    "\n",
    "\n",
    "<div class=\"form-group\">\n",
    "                <label>Name</label>\n",
    "                <input class=\"form-control ng-pristine ng-invalid ng-touched\" minlength=\"2\" name=\"name\" required=\"\" type=\"text\">\n",
    "                <!----><div class=\"alert alert-danger\">Name is required</div>\n",
    "                <!---->\n",
    "            </div>\n",
    "\n",
    "\n",
    "//label[text()=\"Name\"]/following-sibling::input\n",
    "//input/preceding-sibling::label[text()='Name']\n",
    "\n",
    "\n",
    "//div/label[text()=\"Name\"]/input[@name='name']  -  will not work, because  the <input> is a sibling of <label>, not a child.\n",
    "\n",
    "//div/label[text()=\"Name\"]/following-sibling::input[@name='name']\n",
    "//div[label[text()=\"Name\"]]/input[@name='name']"
   ]
  },
  {
   "cell_type": "code",
   "execution_count": null,
   "metadata": {},
   "outputs": [],
   "source": [
    "#dropdown selection\n",
    "dropdowns = Select(driver.find_element(By.ID, \"exampleFormControlSelect1\"))\n",
    "\n",
    "dropdowns.select_by_index(0)\n",
    "\n",
    "dropdowns.select_by_visible_text(text='Female')\n",
    "\n",
    "driver.get('https://rahulshettyacademy.com/dropdownsPractise/') # practice website"
   ]
  },
  {
   "cell_type": "code",
   "execution_count": null,
   "metadata": {},
   "outputs": [],
   "source": [
    "#for multiple elements\n",
    "countries = driver.find_elements(By.XPATH,\"//li[@class='ui-menu-item']/a\")\n",
    "\n",
    "for i in countries:\n",
    "    if i.text == 'India':\n",
    "        i.click()\n",
    "        break\n",
    "\n",
    "driver.find_element(By.XPATH,\"//input[@id='autosuggest']\").get_attribute('value') #gets the value of the attribute"
   ]
  },
  {
   "cell_type": "code",
   "execution_count": null,
   "metadata": {},
   "outputs": [],
   "source": [
    "#to select radio buttons\n",
    "radios = driver.find_elements(By.XPATH, \"//input[@type='radio']\")\n",
    "\n",
    "for i in radios:\n",
    "    print(i.get_attribute('value'))\n",
    "    if i.get_attribute('value')==\"radio1\":\n",
    "        i.click()\n",
    "        assert i.is_selected()"
   ]
  },
  {
   "cell_type": "code",
   "execution_count": null,
   "metadata": {},
   "outputs": [],
   "source": [
    "#to select checkbox\n",
    "checkbox = driver.find_elements(By.XPATH, \"//input[@type='checkbox']\")\n",
    "\n",
    "for i in checkbox:\n",
    "    print(i.get_attribute('value'))\n",
    "    if i.get_attribute('value')==\"option1\":\n",
    "        i.click()\n",
    "        assert i.is_selected()"
   ]
  },
  {
   "cell_type": "code",
   "execution_count": null,
   "metadata": {},
   "outputs": [],
   "source": [
    "#alerts popup\n",
    "\n",
    "alert = driver.switch_to.alert\n",
    "alert.text\n",
    "alert.accept()\n",
    "alert.dismiss()"
   ]
  },
  {
   "cell_type": "code",
   "execution_count": null,
   "metadata": {},
   "outputs": [],
   "source": [
    "# implict waits --- constant time or fixed time -- time.sleep()\n",
    "# explict waits --- waits until the given condition is true --- webdriverwait()\n",
    "\n",
    "from selenium.webdriver.support.ui import WebDriverWait\n",
    "from selenium.webdriver.support import expected_conditions\n",
    "\n",
    "WebDriverWait(driver,10).until(expected_conditions.presence_of_element_located((By.XPATH,\"//input[@id='username']\")))\n",
    "\n",
    "#presence_of_element_located is a function that checks if the element is present in the page\n",
    "#visibility_of_element_located is a function that checks if the element is visible in the page, it is used for the elements that are hidden\n",
    "#element_to_be_clickable is a function that checks if the element is clickable in the page\n",
    "#element_to_be_selected is a function that checks if the element is selected in the page\n",
    "\n",
    "#difference between presence_of_element_located and visibility_of_element_located\n",
    "#presence_of_element_located checks if the element is present in the page\n",
    "#visibility_of_element_located checks if the element is visible in the page, it is used for the elements that are hidden"
   ]
  },
  {
   "cell_type": "code",
   "execution_count": null,
   "metadata": {},
   "outputs": [],
   "source": [
    "# mouse interactions\n",
    "from selenium.webdriver.common.action_chains import ActionChains\n",
    "\n",
    "action = ActionChains(driver)\n",
    "action.move_to_element(driver.find_element(By.XPATH,\"//button[@id='mousehover']\")).perform()\n",
    "action.move_to_element(driver.find_element(By.XPATH,\"(//div[@class='mouse-hover-content']/a)[2]\")).click().perform()\n",
    "\n",
    "#action.double_click()\n",
    "#action.context_click(driver.find_element(By.XPATH,\"//button[@id='mousehover']\")) #right click\n",
    "#action.click_and_hold()\n",
    "#action.drag_and_drop()"
   ]
  },
  {
   "cell_type": "code",
   "execution_count": null,
   "metadata": {},
   "outputs": [],
   "source": [
    "# swicthing tabs\n",
    "\n",
    "driver.get('https://the-internet.herokuapp.com/windows')\n",
    "windows_opened = driver.window_handles\n",
    "\n",
    "driver.switch_to.window(windows_opened[0])\n"
   ]
  },
  {
   "cell_type": "code",
   "execution_count": null,
   "metadata": {},
   "outputs": [],
   "source": [
    "import time\n",
    "\n",
    "driver.find_element(By.XPATH,\"//*[text()='Click Here']\").click()\n",
    "time.sleep(2)\n",
    "windows_opened = driver.window_handles\n",
    "windows_opened\n",
    "\n",
    "driver.switch_to.window(windows_opened[1])\n",
    "driver.close()"
   ]
  },
  {
   "cell_type": "code",
   "execution_count": null,
   "metadata": {},
   "outputs": [],
   "source": [
    "#frames\n",
    "driver.get('https://the-internet.herokuapp.com/iframe')\n",
    "\n",
    "driver.switch_to.frame(\"mce_0_ifr\")\n",
    "\n",
    "driver.switch_to.default_content()"
   ]
  },
  {
   "cell_type": "code",
   "execution_count": null,
   "metadata": {},
   "outputs": [],
   "source": [
    "# java script\n",
    "driver.execute_script(\"window.scrollTo(0,document.body.scrollHeight);\")\n",
    "driver.get_screenshot_as_file('screen.png')"
   ]
  },
  {
   "cell_type": "code",
   "execution_count": null,
   "metadata": {},
   "outputs": [],
   "source": [
    "chrome_options = webdriver.ChromeOptions()\n",
    "#chrome_options.add_argument(\"headless\")\n",
    "chrome_options.add_argument(\"--ignore-certificate-errors\")\n",
    "\n",
    "service_obj=Service(r'D:\\fullstackengineer\\chromedriver-win64\\chromedriver-win64\\chromedriver.exe')\n",
    "driver = webdriver.Chrome(service=service_obj,options=chrome_options)"
   ]
  },
  {
   "cell_type": "markdown",
   "metadata": {},
   "source": [
    "### give the main concepts to master in pytest ?\n",
    "\n",
    "1. Test Discovery and Naming Conventions\n",
    "- pytest automatically discovers test files and test cases:\n",
    "- Test file names should start with test_ or end with _test.py.\n",
    "- Test functions should start with test_."
   ]
  },
  {
   "cell_type": "markdown",
   "metadata": {},
   "source": [
    "2. Assertions\n",
    "- Use Python’s built-in assert keyword for validations."
   ]
  },
  {
   "cell_type": "markdown",
   "metadata": {},
   "source": [
    "3. Fixtures\n",
    "- Fixtures manage setup and teardown for tests.\n",
    "- Defined using the @pytest.fixture decorator.\n",
    "- Can be shared across multiple tests via conftest.py.\n",
    "\n",
    "4. Parametrization\n",
    "- Run a single test with multiple data inputs using @pytest.mark.parametrize.\n",
    "\n",
    "5. Markers\n",
    "- Categorize or customize tests using markers.\n",
    "- Built-in markers:\n",
    "- @pytest.mark.skip: Skip a test.\n",
    "- @pytest.mark.xfail: Mark a test as expected to fail.\n",
    "- Custom markers must be registered in pytest.ini.\n"
   ]
  },
  {
   "cell_type": "markdown",
   "metadata": {},
   "source": [
    "6. Plugins\n",
    "Extend pytest functionality using plugins.\n",
    "Common plugins:\n",
    "pytest-html: Generate HTML reports.\n",
    "pytest-xdist: Run tests in parallel.\n",
    "pytest-mock: Mock objects during testing.\n",
    "\n",
    "\n",
    "7. Command-Line Options\n",
    "Options to control test execution:\n",
    "-v: Verbose mode.\n",
    "-k \"expression\": Run tests matching a name or expression.\n",
    "-m \"marker\": Run tests with a specific marker.\n",
    "--html=report.html: Generate an HTML report.\n",
    "\n",
    "\n",
    "9. Assertions with Custom Messages\n",
    "Enhance debugging with meaningful failure messages.\n",
    "\n",
    "\n",
    "10. Test Reports and Logging\n",
    "Use --html for reports.\n",
    "Integrate logging for better test debugging.\n",
    "\n",
    "\n",
    "11. Handling Test Failures\n",
    "Rerun failed tests using pytest-rerunfailures.\n",
    "Capture screenshots or logs on failure with hooks like pytest_runtest_makereport."
   ]
  },
  {
   "cell_type": "markdown",
   "metadata": {},
   "source": [
    "1. Register Custom Markers\n",
    "- Markers are used to categorize or add metadata to tests. You can define custom markers in pytest.ini to avoid warnings when using them.\n",
    "\n",
    "\n",
    "[pytest]\n",
    "- markers =\n",
    "    smoke: Smoke tests\n",
    "    regression: Regression tests\n",
    "    api: Tests related to API"
   ]
  },
  {
   "cell_type": "code",
   "execution_count": null,
   "metadata": {},
   "outputs": [],
   "source": [
    "@pytest.mark.smoke #markers\n",
    "def test_smoke_test():\n",
    "    assert True\n",
    "\n",
    "#cmd commands\n",
    "2. Set Command-Line Options\n",
    "pytest.ini can set default command-line options that will be applied every time pytest is run. This eliminates the need to manually pass them in the terminal.\n",
    "\n",
    "[pytest]\n",
    "addopts = -v --maxfail=3 --disable-warnings"
   ]
  },
  {
   "cell_type": "markdown",
   "metadata": {},
   "source": [
    "- pytest -v #runs the test cases in verbose mode, it shows the output of the test cases\n",
    "\n",
    "- pytest -v -s #runs the test cases in verbose mode and shows console logs\n",
    "\n",
    "- pytest filename.py -v -s #runs the test cases in the filename.py, in verbose mode and shows the output of the test cases\n",
    "\n",
    "- pytest -k test_name #runs the test cases with the test_name, it is used to run the specific test cases\n",
    "\n",
    "## how to run selected test cases in pytest\n",
    "- pytest -k test_name #-k is a keyword argument that is used to run the specific test cases\n",
    "\n",
    "#example: \n",
    "- pytest -k login #-runs the test cases with the login keyword\n",
    "\n"
   ]
  },
  {
   "cell_type": "markdown",
   "metadata": {},
   "source": [
    "### how to run specific test case in a specific file which is in a class\n",
    "- pytest filename.py::classname::test_name\n",
    "\n",
    "### how to run all the test cases in a specific file which is in a class\n",
    "- pytest filename.py::classname"
   ]
  },
  {
   "cell_type": "code",
   "execution_count": null,
   "metadata": {},
   "outputs": [],
   "source": [
    "#xfail, markers, skip\n",
    "\n",
    "import pytest\n",
    "\n",
    "@pytest.mark.smoke #-m is a marker that is used to run the test cases with the specific tag\n",
    "@pytest.mark.skip\n",
    "def test_first():\n",
    "    assert 1==1\n",
    "\n",
    "@pytest.mark.sanity #sanity is a tag that is used to run the test cases with the sanity tag means the test cases that are important\n",
    "def test_second():\n",
    "    assert 2==2\n",
    "\n",
    "@pytest.mark.xfail #expected to fail, if the test case fails, it will not be considered as a failure\n",
    "def test_third():\n",
    "    assert 3==3\n",
    "\n"
   ]
  },
  {
   "cell_type": "markdown",
   "metadata": {},
   "source": [
    "### conftest.py - it is a file that contains the fixtures, it is used to share the fixtures across the test cases"
   ]
  },
  {
   "cell_type": "code",
   "execution_count": null,
   "metadata": {},
   "outputs": [],
   "source": [
    "#how to pass the fixtures to every test case without explicity mentioning it\n",
    "\n",
    "#conftest.py\n",
    "\n",
    "import pytest\n",
    "\n",
    "@pytest.fixture()\n",
    "def setup():\n",
    "    print('setup')\n",
    "    yield\n",
    "    print('teardown')\n",
    "\n",
    "\n",
    "\n",
    "#test_file.py\n",
    "\n",
    "@pytest.mark.usefixtures('setup')\n",
    "class testexample:\n",
    "    def test_first(self):\n",
    "        print('test_first')\n",
    "        assert 1==1\n",
    "\n",
    "    def test_second(self):\n",
    "        print('test_second')"
   ]
  },
  {
   "cell_type": "markdown",
   "metadata": {},
   "source": [
    "### fixtures - setup and teardown\n"
   ]
  },
  {
   "cell_type": "code",
   "execution_count": null,
   "metadata": {},
   "outputs": [],
   "source": [
    "\n",
    "import pytest\n",
    "\n",
    "@pytest.fixture() #setup and teardown, setup is called before the test case and teardown is called after the test case\n",
    "def setup():\n",
    "    print('setup')\n",
    "    yield\n",
    "    print('teardown')"
   ]
  },
  {
   "cell_type": "markdown",
   "metadata": {},
   "source": [
    "### now if i want to exceute the setup only once in the class at the beginning of the test cases"
   ]
  },
  {
   "cell_type": "markdown",
   "metadata": {},
   "source": [
    "#### what is scope is here ?\n",
    "        \n",
    "- scope is used to define the scope of the fixture, it can be function, class, module, session\n",
    "        \n",
    "- function - the fixture is called for every test case\n",
    "\n",
    "- class - the fixture is called only once for the class\n",
    "\n",
    "- module - the fixture is called only once for the module\n",
    "\n",
    "- session - the fixture is called only once for the session\n",
    "\n",
    "#### how to run the test cases in parallel\n",
    "        \n",
    "- pytest -n 2 #runs the test cases in parallel with 2 threads"
   ]
  },
  {
   "cell_type": "markdown",
   "metadata": {},
   "source": [
    "### pytest html report\n",
    "\n",
    "- pip install pytest-html\n",
    "\n",
    "- pytest --html=report.html #generates the html report\n",
    "\n",
    "#### generates the html report with all the css and js files embedded in the html file\n",
    "- pytest --html=report.html --self-contained-html \n",
    "\n",
    "#### generates the html report with all the css and js files embedded in the html file, in verbose mode and shows the output of the test cases\n",
    "- pytest --html=report.html --self-contained-html -v -s "
   ]
  },
  {
   "cell_type": "code",
   "execution_count": null,
   "metadata": {},
   "outputs": [],
   "source": [
    "#logging\n",
    "\n",
    "import logging\n",
    "import inspect\n",
    "\n",
    "loggername = inspect.stack()[1][3] #gets the name of the function\n",
    "logger = logging.getLogger(__name__) # __name__ is the name of the module #logger is an object of the logging class\n",
    "\n",
    "\n",
    "filehandler = logging.FileHandler('logfile.log') #creates a file handler that writes the logging messages to the file\n",
    "\n",
    "formatter = logging.Formatter('%(asctime)s : %(levelname)s : %(name)s : %(message)s') #creates a formatter that formats the logging messages\n",
    "\n",
    "filehandler.setFormatter(formatter) #sets the formatter to the file handler\n",
    "\n",
    "logger.addHandler(filehandler) #adds a handler to the logger, it is used to handle the logging messages\n",
    "\n",
    "logger.setLevel(logging.DEBUG) #sets the logging level of the logger\n",
    "\n",
    "logger.debug('this is a debug message') #debug is the lowest level of logging, it is used for debugging purposes\n",
    "logger.info('this is an info message') #info is the second lowest level of logging, it is used for informational purposes\n",
    "logger.warning('this is a warning message') #warning is the third lowest level of logging, it is used for warning purposes\n",
    "logger.error('this is an error message') #error is the second highest level of logging, it is used for error purposes\n",
    "logger.critical('this is a critical message') #critical is the highest level of logging, it is used for critical purposes\n",
    "\n",
    "#logging levels\n",
    "\n",
    "#debug - lowest level of logging, it is used for debugging purposes\n",
    "#info - second lowest level of logging, it is used for informational purposes\n",
    "#warning - third lowest level of logging, it is used for warning purposes\n",
    "#error - second highest level of logging, it is used for error purposes\n",
    "#critical - highest level of logging, it is used for critical purposes\n"
   ]
  },
  {
   "cell_type": "code",
   "execution_count": null,
   "metadata": {},
   "outputs": [],
   "source": [
    "import logging\n",
    "import inspect\n",
    "\n",
    "class BaseClass:\n",
    "\n",
    "    def getlogger(self):\n",
    "        # Get the name of the calling function\n",
    "        loggername = inspect.stack()[1][3]\n",
    "        \n",
    "        # Create a logger object with the name of the calling function\n",
    "        logger = logging.getLogger(loggername)\n",
    "        \n",
    "        # Create a file handler to write log messages to a file named 'logfile.log'\n",
    "        filehandler = logging.FileHandler('logfile.log')\n",
    "        \n",
    "        # Create a formatter to specify the format of log messages\n",
    "        formatter = logging.Formatter('%(asctime)s : %(levelname)s : %(name)s : %(message)s')\n",
    "        \n",
    "        # Set the formatter for the file handler\n",
    "        filehandler.setFormatter(formatter)\n",
    "        \n",
    "        # Add the file handler to the logger\n",
    "        logger.addHandler(filehandler) # Add handler to the logger object, so that it can write to the file, as well as to the console, if required, based on the logging level\n",
    "        \n",
    "        # Set the logging level to INFO\n",
    "        logger.setLevel(logging.INFO)\n",
    "        \n",
    "        # Return the logger object\n",
    "        return logger\n",
    "    \n",
    "\n",
    "\n",
    "import pytest\n",
    "from test_logging import BaseClass \n",
    "\n",
    "class TestEx(BaseClass):\n",
    "\n",
    "    def test_ets(self):\n",
    "        log = self.getlogger()\n",
    "        log.error(\"This is info message\")"
   ]
  },
  {
   "cell_type": "code",
   "execution_count": null,
   "metadata": {},
   "outputs": [],
   "source": [
    "pip install pytest-html-reporter\n",
    "\n",
    "[pytest]\n",
    "html_report_title = \"My Test Report\"\n",
    "html_report_theme = \"dark\"  # Options: \"light\" (default), \"dark\"\n",
    "html_report_dir = \"reports\"  # Default directory for reports\n",
    "\n",
    "\n",
    "pytest --html-report=reports/ --html-report-title=\"Resume Validation Tests\" --html-report-theme=dark\n"
   ]
  },
  {
   "cell_type": "markdown",
   "metadata": {},
   "source": []
  }
 ],
 "metadata": {
  "kernelspec": {
   "display_name": "Python 3",
   "language": "python",
   "name": "python3"
  },
  "language_info": {
   "codemirror_mode": {
    "name": "ipython",
    "version": 3
   },
   "file_extension": ".py",
   "mimetype": "text/x-python",
   "name": "python",
   "nbconvert_exporter": "python",
   "pygments_lexer": "ipython3",
   "version": "3.11.8"
  }
 },
 "nbformat": 4,
 "nbformat_minor": 2
}
